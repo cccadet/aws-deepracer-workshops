{
 "cells": [
  {
   "cell_type": "markdown",
   "metadata": {},
   "source": [
    "# Evaluation Run Log Analysis and Visualization for AWS DeepRacer\n",
    "\n",
    "This notebook walks through how you can analyze and debug using the AWS DeepRacer Simulation logs \n",
    "\n",
    "```\n",
    "1. Tools to find best iteration of your model\n",
    "2. Visualize reward distribution on the track\n",
    "  2.1 Visualize reward heatmap per episode or iteration\n",
    "3. Identify hotspots on the track for your model\n",
    "4. Understand probability distributions on simulated images\n",
    "5. Evaluation run analysis - plot lap speed heatmap\n",
    "```"
   ]
  },
  {
   "cell_type": "markdown",
   "metadata": {},
   "source": [
    "## Requirements\n",
    "\n",
    "boto3 >= 1.9.133  ; configure your aws cli and/or boto credentials file\n",
    "\n",
    "AWS CLI: https://docs.aws.amazon.com/cli/latest/userguide/cli-chap-configure.html\n",
    "\n",
    "Boto Configuration: https://boto3.amazonaws.com/v1/documentation/api/latest/guide/configuration.html"
   ]
  },
  {
   "cell_type": "code",
   "execution_count": 1,
   "metadata": {
    "pycharm": {
     "is_executing": false
    }
   },
   "outputs": [
    {
     "data": {
      "text/plain": "'1.9.210'"
     },
     "metadata": {},
     "output_type": "execute_result",
     "execution_count": 1
    }
   ],
   "source": [
    "import numpy as np\n",
    "import pandas as pd\n",
    "import matplotlib.pyplot as plt\n",
    "from datetime import datetime\n",
    "%matplotlib inline\n",
    "\n",
    "#Shapely Library\n",
    "from shapely.geometry import Point, Polygon\n",
    "from shapely.geometry.polygon import LinearRing, LineString\n",
    "\n",
    "import track_utils as tu\n",
    "import log_analysis as la\n",
    "import cw_utils as cw\n",
    "\n",
    "# Make sure your boto version is >= '1.9.133'\n",
    "cw.boto3.__version__"
   ]
  },
  {
   "cell_type": "code",
   "execution_count": 2,
   "metadata": {
    "pycharm": {
     "is_executing": false
    }
   },
   "outputs": [
    {
     "data": {
      "text/plain": "<module 'track_utils' from '/home/ccsantos/deepracer-for-dummies/aws-deepracer-workshops/log-analysis/track_utils.py'>"
     },
     "metadata": {},
     "output_type": "execute_result",
     "execution_count": 2
    }
   ],
   "source": [
    "# reload log_analysis here if needed\n",
    "# I use this when I update python files in log-analysis folder\n",
    "import importlib\n",
    "importlib.reload(la)\n",
    "importlib.reload(cw)\n",
    "importlib.reload(tu)"
   ]
  },
  {
   "cell_type": "markdown",
   "metadata": {},
   "source": [
    "## Load waypoints for the track you want to run analysis on\n",
    "\n",
    "Tracks Available:"
   ]
  },
  {
   "cell_type": "code",
   "execution_count": 3,
   "metadata": {
    "pycharm": {
     "is_executing": false
    }
   },
   "outputs": [
    {
     "name": "stdout",
     "text": [
      "AWS_track.npy\t  London_Loop_Train.npy    reinvent_base.npy\r\nBowtie_track.npy  New_York_Eval_Track.npy  Straight_track.npy\r\nChina_track.npy   New_York_Track.npy\t   Tokyo_Training_track.npy\r\nH_track.npy\t  Oval_track.npy\t   Virtual_May19_Train_track.npy\r\n"
     ],
     "output_type": "stream"
    }
   ],
   "source": [
    "!ls tracks/"
   ]
  },
  {
   "cell_type": "code",
   "execution_count": 4,
   "metadata": {
    "pycharm": {
     "is_executing": false
    }
   },
   "outputs": [
    {
     "name": "stdout",
     "text": [
      "Loaded 71 waypoints\n"
     ],
     "output_type": "stream"
    },
    {
     "data": {
      "text/plain": "<shapely.geometry.polygon.Polygon at 0x7ff9e38e8c18>",
      "image/svg+xml": "<svg xmlns=\"http://www.w3.org/2000/svg\" xmlns:xlink=\"http://www.w3.org/1999/xlink\" width=\"100.0\" height=\"100.0\" viewBox=\"0.13165101625431158 0.09529031240092306 7.739630843825427 5.0005055286139175\" preserveAspectRatio=\"xMinYMin meet\"><g transform=\"matrix(1,0,0,-1,0,5.191086153415764)\"><path fill-rule=\"evenodd\" fill=\"#ff3333\" stroke=\"#555555\" stroke-width=\"0.15479261687650855\" opacity=\"0.6\" d=\"M 2.9101200062595103,0.38230620783067915 L 3.320119934919921,0.38247723188186483 L 3.420119917520022,0.3825189450650809 L 3.630128223616876,0.3826065462298145 L 4.190119783540795,0.3828401365758443 L 4.50012807223775,0.382969450923794 L 4.550119720901156,0.38299030403542206 L 5.3201279295585735,0.3833114990261654 L 5.420127912158674,0.38335321220938146 L 5.780127849519036,0.38350337966895914 L 6.324972631375165,0.3956832604952143 L 6.496120858284972,0.4160202072156111 L 6.62472364224327,0.44473185107344176 L 6.815966218031551,0.521642101758542 L 7.017519684834686,0.6415111643040204 L 7.229499454034008,0.8217965373170768 L 7.354308823693938,0.9825323713128955 L 7.447931440559386,1.1453875219327774 L 7.584628865863982,1.8031173114342751 L 7.577929620223677,1.8535557187007277 L 7.571403728787527,1.90268894767995 L 7.350201669529235,2.492043640838347 L 7.258218658533806,2.610503855324811 L 6.843319429832621,2.9366420720078783 L 6.652076861387874,3.0135523418410606 L 6.077102317373509,3.0843225367722926 L 5.917114336078783,3.0829358686812904 L 5.717129359460375,3.081202533567537 L 5.667306448817149,3.080770702127258 L 5.197341753763893,3.076697364609938 L 5.047179687788711,3.0753958609364638 L 5.034886471281728,3.0759817113964028 L 4.97556588304942,3.082330184103404 L 4.723655995002148,3.1605758734283604 L 4.498355317486535,3.3624310927965775 L 4.3325507156607355,3.5658507056549404 L 4.240944136947374,3.6782394727455503 L 4.0138222049015155,3.9568870795046953 L 3.922215626188155,4.069275846595304 L 3.7888808345557994,4.232859434720925 L 3.4380291650003363,4.595552001126502 L 3.353319122878281,4.64793530145161 L 3.1961735515503995,4.727704914445076 L 3.055651529170767,4.776192024941823 L 2.840968530687481,4.80720241399628 L 2.84303014895641,4.80698759310109 L 2.4913683324088596,4.809142846799084 L 2.2404230806588203,4.8019019048214995 L 1.981215987743099,4.794422570158293 L 1.7305590426333723,4.787189947173157 L 1.1133976663098506,4.68342738185746 L 0.9132873376602105,4.575866464388443 L 0.4396815695265954,3.8869828266056468 L 0.4183040104700681,3.4707944950583007 L 0.5817439759375306,2.665552102434232 L 0.5930735980115257,2.6097328787804766 L 0.6242638438593316,2.4560635597666995 L 0.6437866949569175,2.3598776159940114 L 0.7253233176311822,1.9581598051701847 L 0.7467666116515489,1.8525121483482125 L 0.7963216533547308,1.6083624372691325 L 0.9415723136978997,1.058316414523293 L 0.962303954307788,1.006632340237715 L 1.0626459793805891,0.8300487672594938 L 1.095566151040184,0.7926169730979473 L 1.1657678278926826,0.712794342009927 L 1.3114141412298634,0.5840889274264379 L 1.3546711732192105,0.5599177517631669 L 2.040128500275279,0.3819433066166796 L 2.7501283767359923,0.38223947021751337 L 2.9101200062595103,0.38230620783067915 L 2.909906444083587,0.9840787499610828 L 2.749912415761146,0.9840310918882519 L 2.0399124787587044,0.9838196013153698 L 1.6445917267628223,1.0788141361524557 L 1.6322328186035158,1.0857186889648438 L 1.613667277893416,1.1068169893088786 L 1.5434438985939147,1.186620425727402 L 1.5296887207031251,1.2022521209716797 L 1.5185744153105296,1.2299234905909608 L 1.497822943058028,1.281588586929395 L 1.3902788553560892,1.7314629754755075 L 1.338638685255012,1.9753504435221483 L 1.3163469413409712,2.080630441068597 L 1.2314242341915527,2.4817054953489857 L 1.211040078964814,2.5779762860297337 L 1.178615724180754,2.7311108279154777 L 1.1667667487821711,2.787071460950787 L 0.9966111768378945,3.59068638968341 L 1.0248472113946108,3.7704349524329484 L 1.2783204962571983,4.088884910007067 L 1.314613037109375,4.11409423828125 L 1.7485951938134034,4.166053115531388 L 1.9992580924048617,4.173382658074824 L 2.258451665350191,4.180961642960754 L 2.509406720502155,4.1882997283477925 L 2.7808141160514976,4.192424015198027 L 2.7788712303071925,4.192614571024957 L 2.8843350219726562,4.182270812988281 L 2.994786471026911,4.144147305563019 L 3.028917153889106,4.123471202342913 L 3.09720703125,4.081221618652344 L 3.30923654574253,3.8419079701360612 L 3.442571258568735,3.6783243301144166 L 3.534177795123867,3.5659355126652286 L 3.7612995949291355,3.287287815055975 L 3.8529061314842683,3.1748989976067854 L 4.018710641305418,2.9714793128627117 L 4.399026282932134,2.6360679163260246 L 4.909864648480311,2.468324424054731 L 4.9691856595622115,2.46197790460427 L 5.018619835463795,2.4566891383955527 L 5.20260337467398,2.4551229239531156 L 5.6725712484683495,2.45900857506364 L 5.722402483931133,2.459420575130478 L 5.922388813205334,2.4610740436881477 L 6.082377876624694,2.462396818534284 L 6.431444702148438,2.436733856201172 L 6.6006591796875,2.3618621826171875 L 6.769062197464956,2.2227494158821073 L 6.863466114123764,2.106320230004854 L 6.961888826195919,1.8144451569358484 L 6.969601773690491,1.7656646935058404 L 6.972432250976563,1.7477633666992187 L 6.883023391314907,1.3793610957984892 L 6.865130542696974,1.345683363233008 L 6.767670288085938,1.2075256347656251 L 6.65414056181079,1.121153136506339 L 6.58552837663102,1.0751901389624254 L 6.433070068359375,1.0093801879882813 L 6.42648361684787,1.0086153150902388 L 6.255308201425604,0.9887370185843034 L 5.779912146912412,0.9849336502485796 L 5.419912178854835,0.984826415591907 L 5.319912187727731,0.9847966281872758 L 4.5499062985681,0.9845672633970358 L 4.499912260485474,0.9845523714692992 L 4.189906330510524,0.9844600287403632 L 3.6299123376796656,0.9842932210490071 L 3.4199063988318197,0.9842306657247023 L 3.319906407704715,0.9842008783200711 L 2.909906444083587,0.9840787499610828 L 2.9101200062595103,0.38230620783067915 z\" /></g></svg>"
     },
     "metadata": {},
     "output_type": "execute_result",
     "execution_count": 4
    }
   ],
   "source": [
    "l_center_line, l_inner_border, l_outer_border, road_poly = tu.load_track(\"reinvent_base\")\n",
    "\n",
    "road_poly"
   ]
  },
  {
   "cell_type": "markdown",
   "metadata": {},
   "source": [
    "## Load all evaluation logs\n",
    "\n",
    "**WARNING:** If you do not specify `not_older_than` parameter, all evaluation logs will be downloaded. They aren't as big as the training logs, but there is a lot of them.\n",
    "\n",
    "That said you can download all and then it will only download new ones unless you use force=True.\n",
    "\n",
    "There are also `not_older_than` and `older_than` parameters so you can choose to fetch all logs from a given period and compare them against each other. Just remember memory is finite.\n",
    "\n",
    "As mentioned, this method always fetches a list of log streams and then downloads only ones that haven't been downloaded just yet. You can therefore use it to fetch that list and load all the files from the path provided.\n",
    "It's good to keep things organised: group your files into folders to not lose track where they came from. Replace `SELECT_YOUR_FOLDER` with a path matching your preference."
   ]
  },
  {
   "cell_type": "code",
   "execution_count": 6,
   "metadata": {
    "pycharm": {
     "is_executing": false
    }
   },
   "outputs": [
    {
     "traceback": [
      "\u001b[0;31m---------------------------------------------------------------------------\u001b[0m",
      "\u001b[0;31mResourceNotFoundException\u001b[0m                 Traceback (most recent call last)",
      "\u001b[0;32m<ipython-input-6-8ac6e5d1d311>\u001b[0m in \u001b[0;36m<module>\u001b[0;34m\u001b[0m\n\u001b[0;32m----> 1\u001b[0;31m \u001b[0mlogs\u001b[0m \u001b[0;34m=\u001b[0m \u001b[0mcw\u001b[0m\u001b[0;34m.\u001b[0m\u001b[0mdownload_all_logs\u001b[0m\u001b[0;34m(\u001b[0m\u001b[0;34m'logs/c02f1706-c13c-11e9-8ad0-0242ac120004/race/deepracer-eval-'\u001b[0m\u001b[0;34m,\u001b[0m \u001b[0;34m'/aws/deepracer/leaderboard/SimulationJobs'\u001b[0m\u001b[0;34m,\u001b[0m \u001b[0mnot_older_than\u001b[0m\u001b[0;34m=\u001b[0m\u001b[0;34m\"2019-08-26 20:00\"\u001b[0m\u001b[0;34m,\u001b[0m \u001b[0molder_than\u001b[0m\u001b[0;34m=\u001b[0m\u001b[0;34m\"2019-08-26 23:00\"\u001b[0m\u001b[0;34m)\u001b[0m\u001b[0;34m\u001b[0m\u001b[0;34m\u001b[0m\u001b[0m\n\u001b[0m\u001b[1;32m      2\u001b[0m \u001b[0;34m\u001b[0m\u001b[0m\n",
      "\u001b[0;32m~/deepracer-for-dummies/aws-deepracer-workshops/log-analysis/cw_utils.py\u001b[0m in \u001b[0;36mdownload_all_logs\u001b[0;34m(pathprefix, log_group, not_older_than, older_than, force)\u001b[0m\n\u001b[1;32m     79\u001b[0m \u001b[0;34m\u001b[0m\u001b[0m\n\u001b[1;32m     80\u001b[0m     \u001b[0;32mwhile\u001b[0m \u001b[0mnext_token\u001b[0m \u001b[0;32mis\u001b[0m \u001b[0;32mnot\u001b[0m \u001b[0;34m'theEnd'\u001b[0m\u001b[0;34m:\u001b[0m\u001b[0;34m\u001b[0m\u001b[0;34m\u001b[0m\u001b[0m\n\u001b[0;32m---> 81\u001b[0;31m         \u001b[0mstreams\u001b[0m \u001b[0;34m=\u001b[0m \u001b[0mdescribe_log_streams\u001b[0m\u001b[0;34m(\u001b[0m\u001b[0mclient\u001b[0m\u001b[0;34m,\u001b[0m \u001b[0mlog_group\u001b[0m\u001b[0;34m,\u001b[0m \u001b[0mnext_token\u001b[0m\u001b[0;34m)\u001b[0m\u001b[0;34m\u001b[0m\u001b[0;34m\u001b[0m\u001b[0m\n\u001b[0m\u001b[1;32m     82\u001b[0m \u001b[0;34m\u001b[0m\u001b[0m\n\u001b[1;32m     83\u001b[0m         \u001b[0mnext_token\u001b[0m \u001b[0;34m=\u001b[0m \u001b[0mstreams\u001b[0m\u001b[0;34m.\u001b[0m\u001b[0mget\u001b[0m\u001b[0;34m(\u001b[0m\u001b[0;34m'nextToken'\u001b[0m\u001b[0;34m,\u001b[0m \u001b[0;34m'theEnd'\u001b[0m\u001b[0;34m)\u001b[0m\u001b[0;34m\u001b[0m\u001b[0;34m\u001b[0m\u001b[0m\n",
      "\u001b[0;32m~/deepracer-for-dummies/aws-deepracer-workshops/log-analysis/cw_utils.py\u001b[0m in \u001b[0;36mdescribe_log_streams\u001b[0;34m(client, log_group, next_token)\u001b[0m\n\u001b[1;32m    106\u001b[0m     \u001b[0;32melse\u001b[0m\u001b[0;34m:\u001b[0m\u001b[0;34m\u001b[0m\u001b[0;34m\u001b[0m\u001b[0m\n\u001b[1;32m    107\u001b[0m         streams = client.describe_log_streams(logGroupName=log_group, orderBy='LastEventTime',\n\u001b[0;32m--> 108\u001b[0;31m                                               descending=True)\n\u001b[0m\u001b[1;32m    109\u001b[0m     \u001b[0;32mreturn\u001b[0m \u001b[0mstreams\u001b[0m\u001b[0;34m\u001b[0m\u001b[0;34m\u001b[0m\u001b[0m\n\u001b[1;32m    110\u001b[0m \u001b[0;34m\u001b[0m\u001b[0m\n",
      "\u001b[0;32m~/anaconda3/lib/python3.7/site-packages/botocore/client.py\u001b[0m in \u001b[0;36m_api_call\u001b[0;34m(self, *args, **kwargs)\u001b[0m\n\u001b[1;32m    355\u001b[0m                     \"%s() only accepts keyword arguments.\" % py_operation_name)\n\u001b[1;32m    356\u001b[0m             \u001b[0;31m# The \"self\" in this scope is referring to the BaseClient.\u001b[0m\u001b[0;34m\u001b[0m\u001b[0;34m\u001b[0m\u001b[0;34m\u001b[0m\u001b[0m\n\u001b[0;32m--> 357\u001b[0;31m             \u001b[0;32mreturn\u001b[0m \u001b[0mself\u001b[0m\u001b[0;34m.\u001b[0m\u001b[0m_make_api_call\u001b[0m\u001b[0;34m(\u001b[0m\u001b[0moperation_name\u001b[0m\u001b[0;34m,\u001b[0m \u001b[0mkwargs\u001b[0m\u001b[0;34m)\u001b[0m\u001b[0;34m\u001b[0m\u001b[0;34m\u001b[0m\u001b[0m\n\u001b[0m\u001b[1;32m    358\u001b[0m \u001b[0;34m\u001b[0m\u001b[0m\n\u001b[1;32m    359\u001b[0m         \u001b[0m_api_call\u001b[0m\u001b[0;34m.\u001b[0m\u001b[0m__name__\u001b[0m \u001b[0;34m=\u001b[0m \u001b[0mstr\u001b[0m\u001b[0;34m(\u001b[0m\u001b[0mpy_operation_name\u001b[0m\u001b[0;34m)\u001b[0m\u001b[0;34m\u001b[0m\u001b[0;34m\u001b[0m\u001b[0m\n",
      "\u001b[0;32m~/anaconda3/lib/python3.7/site-packages/botocore/client.py\u001b[0m in \u001b[0;36m_make_api_call\u001b[0;34m(self, operation_name, api_params)\u001b[0m\n\u001b[1;32m    659\u001b[0m             \u001b[0merror_code\u001b[0m \u001b[0;34m=\u001b[0m \u001b[0mparsed_response\u001b[0m\u001b[0;34m.\u001b[0m\u001b[0mget\u001b[0m\u001b[0;34m(\u001b[0m\u001b[0;34m\"Error\"\u001b[0m\u001b[0;34m,\u001b[0m \u001b[0;34m{\u001b[0m\u001b[0;34m}\u001b[0m\u001b[0;34m)\u001b[0m\u001b[0;34m.\u001b[0m\u001b[0mget\u001b[0m\u001b[0;34m(\u001b[0m\u001b[0;34m\"Code\"\u001b[0m\u001b[0;34m)\u001b[0m\u001b[0;34m\u001b[0m\u001b[0;34m\u001b[0m\u001b[0m\n\u001b[1;32m    660\u001b[0m             \u001b[0merror_class\u001b[0m \u001b[0;34m=\u001b[0m \u001b[0mself\u001b[0m\u001b[0;34m.\u001b[0m\u001b[0mexceptions\u001b[0m\u001b[0;34m.\u001b[0m\u001b[0mfrom_code\u001b[0m\u001b[0;34m(\u001b[0m\u001b[0merror_code\u001b[0m\u001b[0;34m)\u001b[0m\u001b[0;34m\u001b[0m\u001b[0;34m\u001b[0m\u001b[0m\n\u001b[0;32m--> 661\u001b[0;31m             \u001b[0;32mraise\u001b[0m \u001b[0merror_class\u001b[0m\u001b[0;34m(\u001b[0m\u001b[0mparsed_response\u001b[0m\u001b[0;34m,\u001b[0m \u001b[0moperation_name\u001b[0m\u001b[0;34m)\u001b[0m\u001b[0;34m\u001b[0m\u001b[0;34m\u001b[0m\u001b[0m\n\u001b[0m\u001b[1;32m    662\u001b[0m         \u001b[0;32melse\u001b[0m\u001b[0;34m:\u001b[0m\u001b[0;34m\u001b[0m\u001b[0;34m\u001b[0m\u001b[0m\n\u001b[1;32m    663\u001b[0m             \u001b[0;32mreturn\u001b[0m \u001b[0mparsed_response\u001b[0m\u001b[0;34m\u001b[0m\u001b[0;34m\u001b[0m\u001b[0m\n",
      "\u001b[0;31mResourceNotFoundException\u001b[0m: An error occurred (ResourceNotFoundException) when calling the DescribeLogStreams operation: The specified log group does not exist."
     ],
     "ename": "ResourceNotFoundException",
     "evalue": "An error occurred (ResourceNotFoundException) when calling the DescribeLogStreams operation: The specified log group does not exist.",
     "output_type": "error"
    }
   ],
   "source": [
    "logs = cw.download_all_logs('logs/SELECT_YOUR_FOLDER/race/deepracer-eval-', '/aws/deepracer/leaderboard/SimulationJobs', not_older_than=\"2019-08-26 20:00\", older_than=\"2019-08-26 23:00\")"
   ]
  },
  {
   "cell_type": "code",
   "execution_count": null,
   "metadata": {
    "pycharm": {
     "is_executing": false
    }
   },
   "outputs": [],
   "source": [
    "# Loads all the logs from above\n",
    "bulk = la.load_eval_logs(logs)"
   ]
  },
  {
   "cell_type": "code",
   "execution_count": null,
   "metadata": {
    "scrolled": false,
    "pycharm": {
     "is_executing": false
    }
   },
   "outputs": [],
   "source": [
    "simulation_agg = la.simulation_agg(bulk, 'stream', add_timestamp=True, is_eval=True)\n",
    "complete_ones = simulation_agg[simulation_agg['progress']==100]\n",
    "\n",
    "# This gives the warning about ptp method deprecation. The code looks as if np.ptp was used, I don't know how to fix it.\n",
    "la.scatter_aggregates(simulation_agg, is_eval=True)\n",
    "if complete_ones.shape[0] > 0:\n",
    "    la.scatter_aggregates(complete_ones, \"Complete ones\", is_eval=True)"
   ]
  },
  {
   "cell_type": "code",
   "execution_count": null,
   "metadata": {
    "pycharm": {
     "is_executing": false
    }
   },
   "outputs": [],
   "source": [
    "# fastest complete laps\n",
    "simulation_agg.nlargest(15, 'progress')"
   ]
  },
  {
   "cell_type": "code",
   "execution_count": null,
   "metadata": {
    "pycharm": {
     "is_executing": false
    }
   },
   "outputs": [],
   "source": [
    "# fastest complete laps\n",
    "complete_ones.nsmallest(15, 'time')"
   ]
  },
  {
   "cell_type": "code",
   "execution_count": null,
   "metadata": {
    "pycharm": {
     "is_executing": false
    }
   },
   "outputs": [],
   "source": [
    "# 10 most recent lap attempts\n",
    "simulation_agg.nlargest(10, 'timestamp')"
   ]
  },
  {
   "cell_type": "markdown",
   "metadata": {},
   "source": [
    "## Plot the evaluation laps\n",
    "\n",
    "The method below plots your evaluation attempts. Just note that that is a time consuming operation and therefore I suggest using `min_distance_to_plot` to just plot some of them.\n",
    "\n",
    "While preparing this presentation I have noticed that my half-finished evaluation lap had distance pretty much same to a complete one which is wrong for sure. I don't have an explanation for that. Verifications of the method are very much welcome.\n",
    "\n",
    "If you would like to, below you can load a single log file to evaluate this.\n",
    "\n",
    "I don't have the track info for evaluation tracks so I am using the training ones. They aren't much different most of the time anyway."
   ]
  },
  {
   "cell_type": "code",
   "execution_count": null,
   "metadata": {
    "scrolled": false,
    "pycharm": {
     "is_executing": false
    }
   },
   "outputs": [],
   "source": [
    "la.plot_evaluations(bulk, l_inner_border, l_outer_border)"
   ]
  },
  {
   "cell_type": "markdown",
   "metadata": {},
   "source": [
    "## Evaluation Run Analyis\n",
    "\n",
    "Debug your evaluation runs or analyze the laps"
   ]
  },
  {
   "cell_type": "code",
   "execution_count": null,
   "metadata": {
    "pycharm": {
     "is_executing": false
    }
   },
   "outputs": [],
   "source": [
    "eval_sim = 'sim-g61xg33tw49m'\n",
    "eval_fname = 'logs//deepracer-eval-%s.log' % eval_sim\n",
    "cw.download_log(eval_fname, stream_prefix=eval_sim)"
   ]
  },
  {
   "cell_type": "code",
   "execution_count": null,
   "metadata": {
    "pycharm": {
     "is_executing": false
    }
   },
   "outputs": [],
   "source": [
    "!head $eval_fname"
   ]
  },
  {
   "cell_type": "code",
   "execution_count": null,
   "metadata": {
    "scrolled": false,
    "pycharm": {
     "is_executing": false
    }
   },
   "outputs": [],
   "source": [
    "eval_df = la.load_eval_data(eval_fname)\n",
    "eval_df.head()"
   ]
  },
  {
   "cell_type": "markdown",
   "metadata": {},
   "source": [
    "# Single lap\n",
    "Below you will find some ideas of looking at a single evaluation lap. You may be interested in a specific part of it. This isn't very robust but can work as a starting point. Please submit your ideas for analysis.\n",
    "\n",
    "This place is a great chance to learn more about [Pandas](https://pandas.pydata.org/pandas-docs/stable/) and about how to process data series."
   ]
  },
  {
   "cell_type": "code",
   "execution_count": null,
   "metadata": {
    "scrolled": true,
    "pycharm": {
     "is_executing": false
    }
   },
   "outputs": [],
   "source": [
    "# Load a single lap\n",
    "lap_df = eval_df[eval_df['episode']==0]"
   ]
  },
  {
   "cell_type": "markdown",
   "metadata": {},
   "source": [
    "We're adding a lot of columns here to the episode. To speed things up, it's only done per a single episode, so thers will currently be missing this information.\n",
    "\n",
    "Now try using them as a graphed value."
   ]
  },
  {
   "cell_type": "code",
   "execution_count": null,
   "metadata": {
    "scrolled": false,
    "pycharm": {
     "is_executing": false
    }
   },
   "outputs": [],
   "source": [
    "lap_df.loc[:,'distance']=((lap_df['x'].shift(1)-lap_df['x']) ** 2 + (lap_df['y'].shift(1)-lap_df['y']) ** 2) ** 0.5\n",
    "lap_df.loc[:,'time']=lap_df['timestamp'].astype(float)-lap_df['timestamp'].shift(1).astype(float)\n",
    "lap_df.loc[:,'speed']=lap_df['distance']/(100*lap_df['time'])\n",
    "lap_df.loc[:,'acceleration']=(lap_df['distance']-lap_df['distance'].shift(1))/lap_df['time']\n",
    "lap_df.loc[:,'progress_delta']=lap_df['progress'].astype(float)-lap_df['progress'].shift(1).astype(float)\n",
    "lap_df.loc[:,'progress_delta_per_time']=lap_df['progress_delta']/lap_df['time']\n",
    "la.plot_grid_world(lap_df, l_inner_border, l_outer_border, graphed_value='reward')"
   ]
  },
  {
   "cell_type": "markdown",
   "metadata": {},
   "source": [
    "## Grid World Analysis\n",
    "    Understand the speed of the car along with the path on a per episode basis. This can help you debug portions of the track where the car may not be going fast. Hence giving you hints on how to improve your reward function."
   ]
  },
  {
   "cell_type": "code",
   "execution_count": null,
   "metadata": {
    "scrolled": false,
    "pycharm": {
     "is_executing": false
    }
   },
   "outputs": [],
   "source": [
    "la.analyse_single_evaluation(eval_fname, l_inner_border, l_outer_border, episodes=3)\n"
   ]
  },
  {
   "cell_type": "code",
   "execution_count": null,
   "metadata": {
    "pycharm": {
     "is_executing": false
    }
   },
   "outputs": [],
   "source": []
  }
 ],
 "metadata": {
  "kernelspec": {
   "display_name": "Python 3",
   "language": "python",
   "name": "python3"
  },
  "language_info": {
   "codemirror_mode": {
    "name": "ipython",
    "version": 3
   },
   "file_extension": ".py",
   "mimetype": "text/x-python",
   "name": "python",
   "nbconvert_exporter": "python",
   "pygments_lexer": "ipython3",
   "version": "3.7.3"
  },
  "pycharm": {
   "stem_cell": {
    "cell_type": "raw",
    "source": [],
    "metadata": {
     "collapsed": false
    }
   }
  }
 },
 "nbformat": 4,
 "nbformat_minor": 2
}